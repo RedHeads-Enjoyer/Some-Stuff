{
 "cells": [
  {
   "cell_type": "markdown",
   "metadata": {},
   "source": [
    "# Рабочая тетрадь № 5\n",
    "## Лосев Антон ИКБО-02-21"
   ]
  },
  {
   "attachments": {},
   "cell_type": "markdown",
   "metadata": {},
   "source": [
    "### 1.2.1 Пример\n",
    "Необходимо разработать виртуальную модель процесса обучения. В\n",
    "программе должны быть объекты-ученики, учитель, кладезь знаний.\n",
    "\n",
    "Потребуется три класса – \"учитель\", \"ученик\", \"данные\". Учитель и\n",
    "ученик во многом похожи, оба – люди. Значит, их классы могут\n",
    "принадлежать одному надклассу \"человек\". Однако в контексте данной\n",
    "задачи у учителя и ученика вряд ли найдутся общие атрибуты. Определим,\n",
    "что должны уметь объекты для решения задачи \"увеличить знания\": \\\n",
    "• Ученик должен уметь брать информацию и превращать ее в свои\n",
    "знания. \\\n",
    "• Учитель должен уметь учить группу учеников. \\\n",
    "• Данные могут представлять собой список знаний. Элементы будут\n",
    "извлекаться по индексу"
   ]
  },
  {
   "cell_type": "code",
   "execution_count": 2,
   "metadata": {},
   "outputs": [
    {
     "name": "stdout",
     "output_type": "stream",
     "text": [
      "['inheritance']\n",
      "['inheritance', 'class']\n"
     ]
    }
   ],
   "source": [
    "class Data:\n",
    "    def __init__(self, *info):\n",
    "        self.info = list(info)\n",
    "    \n",
    "    def __getitem__(self, i):\n",
    "        return self.info[i]\n",
    "    \n",
    "class Teacher:\n",
    "    def teach(self, info, *pupil):\n",
    "        for i in pupil:\n",
    "            i.take(info)\n",
    "            \n",
    "class Pupil:\n",
    "    def __init__(self):\n",
    "        self.knowlage = []\n",
    "    \n",
    "    def take(self, info):\n",
    "        self.knowlage.append(info)\n",
    "        \n",
    "lesson = Data('class', 'object', 'inheritance', 'polymorphism', 'encapsulation')\n",
    "marIvanna = Teacher()\n",
    "vasy = Pupil()\n",
    "pety = Pupil()\n",
    "marIvanna.teach(lesson[2], vasy, pety)\n",
    "marIvanna.teach(lesson[0], pety)\n",
    "print(vasy.knowlage)\n",
    "print(pety.knowlage)"
   ]
  },
  {
   "attachments": {},
   "cell_type": "markdown",
   "metadata": {},
   "source": [
    "### 1.2.2 Пример\n",
    "Напишите программу по следующему описанию. Есть класс \"Воин\". От\n",
    "него создаются два экземпляра-юнита. Каждому устанавливается здоровье\n",
    "в 100 очков. В случайном порядке они бьют друг друга. Тот, кто бьет,\n",
    "здоровья не теряет. У того, кого бьют, оно уменьшается на 20 очков от\n",
    "одного удара. После каждого удара надо выводить сообщение, какой юнит\n",
    "атаковал, и сколько у противника осталось здоровья. Как только у кого-то\n",
    "заканчивается ресурс здоровья, программа завершается сообщением о том,\n",
    "кто одержал победу."
   ]
  },
  {
   "cell_type": "code",
   "execution_count": 3,
   "metadata": {},
   "outputs": [
    {
     "name": "stdout",
     "output_type": "stream",
     "text": [
      "Wrong input\n"
     ]
    }
   ],
   "source": [
    "import random\n",
    "\n",
    "class Warrior:\n",
    "    def __init__(self, health):\n",
    "        self.health = health\n",
    "    \n",
    "    def hit(self, target, target1):\n",
    "        if target.health > 0:\n",
    "            target.health -= 20\n",
    "        if target1 == warrior1:\n",
    "            target1 = 'Warrior1'\n",
    "        if target1 == warrior2:\n",
    "            target1 = 'Warrior2'\n",
    "        print(target1, 'has attacked')\n",
    "        print(target.health, 'left')\n",
    "        if target.health == 0:\n",
    "            print(target1, 'has won')\n",
    "            \n",
    "warrior1 = Warrior(100)\n",
    "warrior2 = Warrior(100)\n",
    "q = int(input('Enter 1 to attack. Enter 2 to stop program: '))\n",
    "\n",
    "while q != 2:\n",
    "    if q == 1:\n",
    "        j = random.randint(1, 3)\n",
    "        if j % 2 == 0:\n",
    "            warrior1.hit(warrior2, warrior1)\n",
    "            q = int(input('Enter 1 to let some warrior arrack: '))\n",
    "        else:\n",
    "            warrior2.hit(warrior1, warrior2)\n",
    "            q = int(input('Enter 1 tto let some warrior attcked: '))\n",
    "    else:\n",
    "        print('Wrong input')\n",
    "        break"
   ]
  },
  {
   "attachments": {},
   "cell_type": "markdown",
   "metadata": {},
   "source": [
    "### 1.2.3 Пример\n",
    "Создайте класс по работе с дробями. В классе должна быть\n",
    "реализована следующая функциональность: \\\n",
    "− сложение дробей; \\\n",
    "− вычитание дробей; \\\n",
    "− умножение дробей; \\\n",
    "− деление дробей."
   ]
  },
  {
   "cell_type": "code",
   "execution_count": 4,
   "metadata": {},
   "outputs": [
    {
     "name": "stdout",
     "output_type": "stream",
     "text": [
      "5/6\n",
      "1/6\n",
      "1/6\n",
      "1/6\n",
      "3/2\n",
      "13/2\n"
     ]
    }
   ],
   "source": [
    "class Rational:\n",
    "    \n",
    "    @staticmethod\n",
    "    def gcd(a, b):\n",
    "        while (b != 0):\n",
    "            (a, b) = (b, a % b)\n",
    "        return a\n",
    "\n",
    "    @staticmethod\n",
    "    def sgn(x):\n",
    "        if x > 0:\n",
    "            return 1\n",
    "        elif x < 0:\n",
    "            return - 1\n",
    "        else:\n",
    "            return 0\n",
    "        \n",
    "    def __init__(self, n, d):\n",
    "        if n == 0:\n",
    "            self.num = 0\n",
    "            self.den = 1\n",
    "        else:\n",
    "            z = self.sgn(n) * self.sgn(d)\n",
    "            n = abs(n)\n",
    "            d = abs(d)\n",
    "            k = self.gcd(n, d)\n",
    "            self.num = z * n // k\n",
    "            self.den = d // k\n",
    "            \n",
    "    def __str__(self):\n",
    "        if self.num == 0:\n",
    "            return '0'\n",
    "        else:\n",
    "            return str(self.num) + '/' + str(self.den)\n",
    "        \n",
    "    def __add__(self, o):\n",
    "        n1 = self.num\n",
    "        d1 = self.den\n",
    "        if type(o) == int:\n",
    "            n2 = o\n",
    "            d2 = 1\n",
    "        else:\n",
    "            n2 = o.num\n",
    "            d2 = o.den\n",
    "        n = n1 * d2 + n2 * d1\n",
    "        d = d1 * d2\n",
    "        return Rational(n, d)\n",
    "    \n",
    "    def __radd__(self, o):\n",
    "        n1 = self.num\n",
    "        d1 = self.den\n",
    "        if type(o) == int:\n",
    "            n2 = o\n",
    "            d2 = 1\n",
    "        else:\n",
    "            n2 = o.num\n",
    "            d2 = o.den\n",
    "        n = n1 * d2 + n2 * d1\n",
    "        d = d1 * d2\n",
    "        return Rational(n, d)\n",
    "    \n",
    "    def __sub__(self, o):\n",
    "        n1 = self.num\n",
    "        d1 = self.den\n",
    "        n2 = o.num\n",
    "        d2 = o.den\n",
    "        n = n1 * d2 - n2 * d1\n",
    "        d = d1 * d2\n",
    "        return Rational(n, d)\n",
    "        \n",
    "    def __mul__(self, o):\n",
    "        n1 = self.num\n",
    "        d1 = self.den\n",
    "        n2 = o.num\n",
    "        d2 = o.den\n",
    "        n = n1 * n2\n",
    "        d = d1 * d2\n",
    "        return Rational(n, d)\n",
    "    \n",
    "    def __floordiv__(self, o):\n",
    "        n1 = self.num\n",
    "        d1 = self.den\n",
    "        n2 = o.num\n",
    "        d2 = o.den\n",
    "        n = n1 * d2\n",
    "        d = d1 * n2\n",
    "        return Rational(n, d)\n",
    "    \n",
    "d1 = Rational(1, 2)\n",
    "d2 = Rational(1, 3)\n",
    "d3 = d1 + d2\n",
    "print(d3)\n",
    "d4 = d1 - d2\n",
    "print(d4)\n",
    "d5 = d1 * d2\n",
    "print(d5)\n",
    "d6 = d2 * d1\n",
    "print(d6)\n",
    "d7 = d1 // d2\n",
    "print(d7)\n",
    "d8 = 6 + d1\n",
    "print(d8)"
   ]
  },
  {
   "attachments": {},
   "cell_type": "markdown",
   "metadata": {},
   "source": [
    "### 1.2.3 Задание\n",
    "Создайте класс по работе с тригонометрическими функциями. В классе\n",
    "должны быть реализованы функции вычисления: \\\n",
    "− косинуса; \\\n",
    "− синуса; \\\n",
    "− тангенса; \\\n",
    "− арксинуса; \\\n",
    "− арккосинуса; \\\n",
    "− арктангенса; \\\n",
    "− перевода из градусов в радианы."
   ]
  },
  {
   "cell_type": "code",
   "execution_count": 5,
   "metadata": {},
   "outputs": [
    {
     "name": "stdout",
     "output_type": "stream",
     "text": [
      "1.0\n",
      "-0.0\n",
      "1.0\n",
      "0.5236\n",
      "1.0472\n",
      "0.4636\n"
     ]
    }
   ],
   "source": [
    "import math\n",
    "\n",
    "def fact(x):\n",
    "    if x == 0:\n",
    "        return 1\n",
    "    return x * fact(x - 1)\n",
    "\n",
    "def dfact(x):\n",
    "    if x == 0 or x == 1:\n",
    "        return 1\n",
    "    return x * dfact(x - 2)\n",
    "\n",
    "class Trigonom:\n",
    "    def sin(x):\n",
    "        s = 0\n",
    "        for n in range(1, 10):\n",
    "            s += (-1) ** (n - 1) * (x ** (2 * n - 1)) / fact(2 * n - 1)\n",
    "        return s\n",
    "    \n",
    "    def cos(x):\n",
    "        s = 0\n",
    "        for n in range(10):\n",
    "             s += (-1) ** n * (x ** (2 * n)) / fact(2 * n)\n",
    "        return s\n",
    "    \n",
    "    # x != (PI / 2) + PI * k \n",
    "    def tan(x):\n",
    "        return Trigonom.sin(x) / Trigonom.cos(x)\n",
    "    \n",
    "    # x = (-1; 1)\n",
    "    def asin(x):\n",
    "        s = x\n",
    "        for n in range(1, 10):\n",
    "            s += dfact(2 * n - 1) * x ** (2 * n + 1) / dfact(2 * n) / (2 * n + 1)\n",
    "        return s\n",
    "\n",
    "    # x = (-1, 1)\n",
    "    def acos(x):\n",
    "        return math.pi / 2 - Trigonom.asin(x)\n",
    "    \n",
    "    # x = [-1, 1]\n",
    "    def atan(x):\n",
    "        s = 0\n",
    "        for n in range(1, 10):\n",
    "           s += (-1) ** (n - 1) * x ** (2 * n - 1) / (2 * n - 1) \n",
    "        return s\n",
    "             \n",
    "print(round(Trigonom.sin(math.pi / 2), 4))\n",
    "print(round(Trigonom.cos(math.pi / 2), 4))\n",
    "print(round(Trigonom.tan(math.pi / 4), 4))\n",
    "print(round(Trigonom.asin(0.5), 4))\n",
    "print(round(Trigonom.acos(0.5), 4))\n",
    "print(round(Trigonom.atan(0.5), 4))"
   ]
  },
  {
   "attachments": {},
   "cell_type": "markdown",
   "metadata": {},
   "source": [
    "### 1.2.1 Пример\n",
    "Определите класс бинарного дерева и задайте его объекты с отдельным\n",
    "атрибутом для каждого из потомков."
   ]
  },
  {
   "cell_type": "code",
   "execution_count": 6,
   "metadata": {},
   "outputs": [
    {
     "data": {
      "text/plain": [
       "'c'"
      ]
     },
     "execution_count": 6,
     "metadata": {},
     "output_type": "execute_result"
    }
   ],
   "source": [
    "class Tree:\n",
    "    def __init__(self, left, right):\n",
    "        self.left = left\n",
    "        self.right = right\n",
    "\n",
    "t = Tree(Tree('a', 'b'), Tree('c', 'd'))\n",
    "t.right.left"
   ]
  },
  {
   "attachments": {},
   "cell_type": "markdown",
   "metadata": {},
   "source": [
    "### 1.2.2 Примре\n",
    "Для обозначения отсутствующих потомков можно использовать None\n",
    "(в случае если у узла только один потомок). Само собой, можно\n",
    "комбинировать разные методы (например, использовать списки или\n",
    "множества потомков для каждого узла). \n",
    "\n",
    "Распространенный способ реализации деревьев, особенно на языках,\n",
    "не имеющих встроенной поддержки списков, это так называемое\n",
    "представление «первый потомок, следующий брат». В нем каждый узел\n",
    "имеет два «указателя» или атрибута, указывающих на другие узлы, как в\n",
    "бинарном дереве. Однако, первый из этих атрибутов ссылается на первого\n",
    "потомка узла, а второй — на его следующего брата (т.е. узел, имеющий\n",
    "того же родителя, но находящийся правее, — прим. перев). Иными\n",
    "словами, каждый узел дерева имеет указатель на связанный список его\n",
    "потомков, а каждый из этих потомков ссылается на свой собственный\n",
    "аналогичный список. Таким образом, небольшая модификация бинарного\n",
    "дерева даст нам многопутевое дерево, показанное в листинге ниже.\n"
   ]
  },
  {
   "cell_type": "code",
   "execution_count": 7,
   "metadata": {},
   "outputs": [
    {
     "data": {
      "text/plain": [
       "'c'"
      ]
     },
     "execution_count": 7,
     "metadata": {},
     "output_type": "execute_result"
    }
   ],
   "source": [
    "class Tree:\n",
    "    def __init__(self, kids, next=None):\n",
    "        self.kids = self.val = kids\n",
    "        self.next = next\n",
    "        \n",
    "t = Tree(Tree('a', Tree('b', Tree('c', Tree('d')))))\n",
    "t.kids.next.next.val\n",
    "        "
   ]
  },
  {
   "attachments": {
    "image-2.png": {
     "image/png": "[encoded data removed]"
    }
   },
   "cell_type": "markdown",
   "metadata": {},
   "source": [
    "### 1.2.2 Задание\n",
    "Представьте дерево показанное на рисунке с использованием списка из\n",
    "списков. Выведите на печать корень дерева, а также его левое и правое\n",
    "поддеревья!![image.png](attachment:image-2.png)"
   ]
  },
  {
   "cell_type": "code",
   "execution_count": 8,
   "metadata": {},
   "outputs": [
    {
     "name": "stdout",
     "output_type": "stream",
     "text": [
      "Корень a\n",
      "Левое поддерево ['b', ['d'], ['e']]\n",
      "Правое поддерево ['c', ['f']]\n"
     ]
    }
   ],
   "source": [
    "t = ['a', ['b', ['d'], ['e']], ['c', ['f']]]\n",
    "print('Корень', t[0])\n",
    "print('Левое поддерево', t[1])\n",
    "print('Правое поддерево', t[2])"
   ]
  },
  {
   "attachments": {},
   "cell_type": "markdown",
   "metadata": {},
   "source": [
    "### 1.2.2 Задание\n",
    "Дан класс, описывающий бинарное дерево. \\\n",
    "class Tree: \\\n",
    " def __init__(self, data): \\\n",
    " self.left = None \\\n",
    " self.right = None \\\n",
    " self.data = data \\\n",
    " def PrintTree(self): \\\n",
    " print(self.data) \\\n",
    "Реализуйте в классе функцию для вставки нового элемента в дерево по\n",
    "следующим правилам: \\\n",
    "• Левое поддерево узла содержит только узлы со значениями меньше,\n",
    "чем значение в узле. \\\n",
    "• Правое поддерево узла содержит только узлы со значениями меньше,\n",
    "чем значение в узле. \\\n",
    "• Каждое из левого и правого поддеревьев также должно быть\n",
    "бинарным деревом поиска. \\\n",
    "• Не должно быть повторяющихся узлов. \\\n",
    "Метод вставки сравнивает значение узла с родительским узлом и решает\n",
    "куда доваить элемент (в левое или правое поддерево). Перепишите, метод\n",
    "PrintTree для печати полной версии дерева."
   ]
  },
  {
   "cell_type": "code",
   "execution_count": 9,
   "metadata": {},
   "outputs": [
    {
     "name": "stdout",
     "output_type": "stream",
     "text": [
      "      -2\n",
      "   1\n",
      "      3\n",
      "         4\n",
      "5\n",
      "      7\n",
      "   8\n"
     ]
    }
   ],
   "source": [
    "class Tree:\n",
    "    def __init__(self, data):\n",
    "        self.left = None\n",
    "        self.right = None\n",
    "        self.data = data\n",
    "        \n",
    "    def PrintTree(self, offset=''):\n",
    "        if self.left:\n",
    "            self.left.PrintTree(offset + '   ')\n",
    "        print(offset + str(self.data))\n",
    "        if self.right:\n",
    "            self.right.PrintTree(offset + '   ')\n",
    "        \n",
    "        \n",
    "    def insert(self, data):\n",
    "        if (self.data == None):\n",
    "            self.data = Tree(data)\n",
    "            \n",
    "        elif self.data > data:\n",
    "            if self.left is None:\n",
    "                self.left = Tree(data)\n",
    "            else:\n",
    "                self.left.insert(data)\n",
    "                \n",
    "        else:\n",
    "            if self.right is None:\n",
    "                self.right = Tree(data)\n",
    "            else:\n",
    "                self.right.insert(data)\n",
    "            \n",
    "\n",
    "            \n",
    "root = Tree(5)\n",
    "root.insert(1)\n",
    "root.insert(8)\n",
    "root.insert(7)\n",
    "root.insert(3)\n",
    "root.insert(4)\n",
    "root.insert(-2)\n",
    "root.PrintTree()"
   ]
  },
  {
   "attachments": {},
   "cell_type": "markdown",
   "metadata": {},
   "source": [
    "### 1.3.1 Пример\n",
    "Построим дерево решений для задачи классификации, для этого, построим\n",
    "границу решения для каждого класса. В качестве данных будем\n",
    "использовать уже знакомый нам и встроенный в библиотеку sklearn набор\n",
    "данных ирисов Фишера. Импортируем библиотеки, набор данных и\n",
    "посмотрим его характеристики."
   ]
  },
  {
   "cell_type": "code",
   "execution_count": 10,
   "metadata": {},
   "outputs": [
    {
     "data": {
      "text/html": [
       "<div>\n",
       "<style scoped>\n",
       "    .dataframe tbody tr th:only-of-type {\n",
       "        vertical-align: middle;\n",
       "    }\n",
       "\n",
       "    .dataframe tbody tr th {\n",
       "        vertical-align: top;\n",
       "    }\n",
       "\n",
       "    .dataframe thead th {\n",
       "        text-align: right;\n",
       "    }\n",
       "</style>\n",
       "<table border=\"1\" class=\"dataframe\">\n",
       "  <thead>\n",
       "    <tr style=\"text-align: right;\">\n",
       "      <th></th>\n",
       "      <th>sepal_length</th>\n",
       "      <th>sepal_width</th>\n",
       "      <th>petal_length</th>\n",
       "      <th>petal_width</th>\n",
       "      <th>species</th>\n",
       "    </tr>\n",
       "  </thead>\n",
       "  <tbody>\n",
       "    <tr>\n",
       "      <th>0</th>\n",
       "      <td>5.1</td>\n",
       "      <td>3.5</td>\n",
       "      <td>1.4</td>\n",
       "      <td>0.2</td>\n",
       "      <td>setosa</td>\n",
       "    </tr>\n",
       "    <tr>\n",
       "      <th>1</th>\n",
       "      <td>4.9</td>\n",
       "      <td>3.0</td>\n",
       "      <td>1.4</td>\n",
       "      <td>0.2</td>\n",
       "      <td>setosa</td>\n",
       "    </tr>\n",
       "    <tr>\n",
       "      <th>2</th>\n",
       "      <td>4.7</td>\n",
       "      <td>3.2</td>\n",
       "      <td>1.3</td>\n",
       "      <td>0.2</td>\n",
       "      <td>setosa</td>\n",
       "    </tr>\n",
       "    <tr>\n",
       "      <th>3</th>\n",
       "      <td>4.6</td>\n",
       "      <td>3.1</td>\n",
       "      <td>1.5</td>\n",
       "      <td>0.2</td>\n",
       "      <td>setosa</td>\n",
       "    </tr>\n",
       "    <tr>\n",
       "      <th>4</th>\n",
       "      <td>5.0</td>\n",
       "      <td>3.6</td>\n",
       "      <td>1.4</td>\n",
       "      <td>0.2</td>\n",
       "      <td>setosa</td>\n",
       "    </tr>\n",
       "    <tr>\n",
       "      <th>...</th>\n",
       "      <td>...</td>\n",
       "      <td>...</td>\n",
       "      <td>...</td>\n",
       "      <td>...</td>\n",
       "      <td>...</td>\n",
       "    </tr>\n",
       "    <tr>\n",
       "      <th>145</th>\n",
       "      <td>6.7</td>\n",
       "      <td>3.0</td>\n",
       "      <td>5.2</td>\n",
       "      <td>2.3</td>\n",
       "      <td>virginica</td>\n",
       "    </tr>\n",
       "    <tr>\n",
       "      <th>146</th>\n",
       "      <td>6.3</td>\n",
       "      <td>2.5</td>\n",
       "      <td>5.0</td>\n",
       "      <td>1.9</td>\n",
       "      <td>virginica</td>\n",
       "    </tr>\n",
       "    <tr>\n",
       "      <th>147</th>\n",
       "      <td>6.5</td>\n",
       "      <td>3.0</td>\n",
       "      <td>5.2</td>\n",
       "      <td>2.0</td>\n",
       "      <td>virginica</td>\n",
       "    </tr>\n",
       "    <tr>\n",
       "      <th>148</th>\n",
       "      <td>6.2</td>\n",
       "      <td>3.4</td>\n",
       "      <td>5.4</td>\n",
       "      <td>2.3</td>\n",
       "      <td>virginica</td>\n",
       "    </tr>\n",
       "    <tr>\n",
       "      <th>149</th>\n",
       "      <td>5.9</td>\n",
       "      <td>3.0</td>\n",
       "      <td>5.1</td>\n",
       "      <td>1.8</td>\n",
       "      <td>virginica</td>\n",
       "    </tr>\n",
       "  </tbody>\n",
       "</table>\n",
       "<p>150 rows × 5 columns</p>\n",
       "</div>"
      ],
      "text/plain": [
       "     sepal_length  sepal_width  petal_length  petal_width    species\n",
       "0             5.1          3.5           1.4          0.2     setosa\n",
       "1             4.9          3.0           1.4          0.2     setosa\n",
       "2             4.7          3.2           1.3          0.2     setosa\n",
       "3             4.6          3.1           1.5          0.2     setosa\n",
       "4             5.0          3.6           1.4          0.2     setosa\n",
       "..            ...          ...           ...          ...        ...\n",
       "145           6.7          3.0           5.2          2.3  virginica\n",
       "146           6.3          2.5           5.0          1.9  virginica\n",
       "147           6.5          3.0           5.2          2.0  virginica\n",
       "148           6.2          3.4           5.4          2.3  virginica\n",
       "149           5.9          3.0           5.1          1.8  virginica\n",
       "\n",
       "[150 rows x 5 columns]"
      ]
     },
     "execution_count": 10,
     "metadata": {},
     "output_type": "execute_result"
    }
   ],
   "source": [
    "import pandas as pd\n",
    "import numpy as np\n",
    "import seaborn as sns\n",
    "import matplotlib.pyplot as plt\n",
    "\n",
    "dataset = sns.load_dataset('iris')\n",
    "dataset\n"
   ]
  },
  {
   "cell_type": "code",
   "execution_count": 11,
   "metadata": {},
   "outputs": [
    {
     "name": "stdout",
     "output_type": "stream",
     "text": [
      "(150, 5)\n"
     ]
    },
    {
     "data": {
      "text/html": [
       "<div>\n",
       "<style scoped>\n",
       "    .dataframe tbody tr th:only-of-type {\n",
       "        vertical-align: middle;\n",
       "    }\n",
       "\n",
       "    .dataframe tbody tr th {\n",
       "        vertical-align: top;\n",
       "    }\n",
       "\n",
       "    .dataframe thead th {\n",
       "        text-align: right;\n",
       "    }\n",
       "</style>\n",
       "<table border=\"1\" class=\"dataframe\">\n",
       "  <thead>\n",
       "    <tr style=\"text-align: right;\">\n",
       "      <th></th>\n",
       "      <th>sepal_length</th>\n",
       "      <th>sepal_width</th>\n",
       "      <th>petal_length</th>\n",
       "      <th>petal_width</th>\n",
       "      <th>species</th>\n",
       "    </tr>\n",
       "  </thead>\n",
       "  <tbody>\n",
       "    <tr>\n",
       "      <th>0</th>\n",
       "      <td>5.1</td>\n",
       "      <td>3.5</td>\n",
       "      <td>1.4</td>\n",
       "      <td>0.2</td>\n",
       "      <td>setosa</td>\n",
       "    </tr>\n",
       "    <tr>\n",
       "      <th>1</th>\n",
       "      <td>4.9</td>\n",
       "      <td>3.0</td>\n",
       "      <td>1.4</td>\n",
       "      <td>0.2</td>\n",
       "      <td>setosa</td>\n",
       "    </tr>\n",
       "    <tr>\n",
       "      <th>2</th>\n",
       "      <td>4.7</td>\n",
       "      <td>3.2</td>\n",
       "      <td>1.3</td>\n",
       "      <td>0.2</td>\n",
       "      <td>setosa</td>\n",
       "    </tr>\n",
       "    <tr>\n",
       "      <th>3</th>\n",
       "      <td>4.6</td>\n",
       "      <td>3.1</td>\n",
       "      <td>1.5</td>\n",
       "      <td>0.2</td>\n",
       "      <td>setosa</td>\n",
       "    </tr>\n",
       "    <tr>\n",
       "      <th>4</th>\n",
       "      <td>5.0</td>\n",
       "      <td>3.6</td>\n",
       "      <td>1.4</td>\n",
       "      <td>0.2</td>\n",
       "      <td>setosa</td>\n",
       "    </tr>\n",
       "  </tbody>\n",
       "</table>\n",
       "</div>"
      ],
      "text/plain": [
       "   sepal_length  sepal_width  petal_length  petal_width species\n",
       "0           5.1          3.5           1.4          0.2  setosa\n",
       "1           4.9          3.0           1.4          0.2  setosa\n",
       "2           4.7          3.2           1.3          0.2  setosa\n",
       "3           4.6          3.1           1.5          0.2  setosa\n",
       "4           5.0          3.6           1.4          0.2  setosa"
      ]
     },
     "execution_count": 11,
     "metadata": {},
     "output_type": "execute_result"
    }
   ],
   "source": [
    "print(dataset.shape)\n",
    "dataset.head()"
   ]
  },
  {
   "attachments": {},
   "cell_type": "markdown",
   "metadata": {},
   "source": [
    "Далее, разделим наши данные на атрибуты и метки, а затем выделим в\n",
    "общей совокупности полученных данных обучающие и тестовые наборы.\n",
    "Таким образом, мы можем обучить наш алгоритм на одном наборе данных,\n",
    "а затем протестировать его на совершенно на другом наборе, который\n",
    "алгоритм еще не видел. Это дает вам более точное представление о том,\n",
    "как на самом деле будет работать ваш обученный алгоритм."
   ]
  },
  {
   "cell_type": "code",
   "execution_count": 12,
   "metadata": {},
   "outputs": [
    {
     "data": {
      "text/plain": [
       "((120, 4), (30, 4), (120,), (30,))"
      ]
     },
     "execution_count": 12,
     "metadata": {},
     "output_type": "execute_result"
    }
   ],
   "source": [
    "from sklearn.model_selection import train_test_split\n",
    "\n",
    "x_train, x_test, y_train, y_test = train_test_split(\n",
    "    # Посмкольку iris это pandas-таблица, для нее нужно указать iloc\n",
    "    dataset.iloc[:, :-1], # берем все колонки кроме последней в признаки\n",
    "    dataset.iloc[:, -1], # последнюю в целевую переменную (класс)\n",
    "    test_size = 0.2 # размер тестовой выборки 20%\n",
    ")\n",
    "\n",
    "x_train.shape, x_test.shape, y_train.shape, y_test.shape"
   ]
  },
  {
   "cell_type": "code",
   "execution_count": 13,
   "metadata": {},
   "outputs": [
    {
     "data": {
      "text/html": [
       "<div>\n",
       "<style scoped>\n",
       "    .dataframe tbody tr th:only-of-type {\n",
       "        vertical-align: middle;\n",
       "    }\n",
       "\n",
       "    .dataframe tbody tr th {\n",
       "        vertical-align: top;\n",
       "    }\n",
       "\n",
       "    .dataframe thead th {\n",
       "        text-align: right;\n",
       "    }\n",
       "</style>\n",
       "<table border=\"1\" class=\"dataframe\">\n",
       "  <thead>\n",
       "    <tr style=\"text-align: right;\">\n",
       "      <th></th>\n",
       "      <th>sepal_length</th>\n",
       "      <th>sepal_width</th>\n",
       "      <th>petal_length</th>\n",
       "      <th>petal_width</th>\n",
       "    </tr>\n",
       "  </thead>\n",
       "  <tbody>\n",
       "    <tr>\n",
       "      <th>142</th>\n",
       "      <td>5.8</td>\n",
       "      <td>2.7</td>\n",
       "      <td>5.1</td>\n",
       "      <td>1.9</td>\n",
       "    </tr>\n",
       "    <tr>\n",
       "      <th>37</th>\n",
       "      <td>4.9</td>\n",
       "      <td>3.6</td>\n",
       "      <td>1.4</td>\n",
       "      <td>0.1</td>\n",
       "    </tr>\n",
       "    <tr>\n",
       "      <th>106</th>\n",
       "      <td>4.9</td>\n",
       "      <td>2.5</td>\n",
       "      <td>4.5</td>\n",
       "      <td>1.7</td>\n",
       "    </tr>\n",
       "    <tr>\n",
       "      <th>50</th>\n",
       "      <td>7.0</td>\n",
       "      <td>3.2</td>\n",
       "      <td>4.7</td>\n",
       "      <td>1.4</td>\n",
       "    </tr>\n",
       "    <tr>\n",
       "      <th>97</th>\n",
       "      <td>6.2</td>\n",
       "      <td>2.9</td>\n",
       "      <td>4.3</td>\n",
       "      <td>1.3</td>\n",
       "    </tr>\n",
       "  </tbody>\n",
       "</table>\n",
       "</div>"
      ],
      "text/plain": [
       "     sepal_length  sepal_width  petal_length  petal_width\n",
       "142           5.8          2.7           5.1          1.9\n",
       "37            4.9          3.6           1.4          0.1\n",
       "106           4.9          2.5           4.5          1.7\n",
       "50            7.0          3.2           4.7          1.4\n",
       "97            6.2          2.9           4.3          1.3"
      ]
     },
     "execution_count": 13,
     "metadata": {},
     "output_type": "execute_result"
    }
   ],
   "source": [
    "x_train.head()"
   ]
  },
  {
   "cell_type": "code",
   "execution_count": 14,
   "metadata": {},
   "outputs": [
    {
     "data": {
      "text/plain": [
       "142     virginica\n",
       "37         setosa\n",
       "106     virginica\n",
       "50     versicolor\n",
       "97     versicolor\n",
       "Name: species, dtype: object"
      ]
     },
     "execution_count": 14,
     "metadata": {},
     "output_type": "execute_result"
    }
   ],
   "source": [
    "y_train.head()"
   ]
  },
  {
   "attachments": {},
   "cell_type": "markdown",
   "metadata": {},
   "source": [
    "После того, как данные были разделены на обучающие и тестовые наборы,\n",
    "последний шаг состоит в том, чтобы обучить алгоритм дерева решений на\n",
    "этих данных и сделать прогнозы. Scikit-Learn содержит библиотеку tree ,\n",
    "которая содержит встроенные классы/методы для различных алгоритмов\n",
    "дерева решений. Поскольку мы собираемся выполнить здесь задачу\n",
    "классификации, мы будем использовать класс DecisionTreeClassifier для\n",
    "этого примера. Метод fit этого класса вызывается для обучения алгоритма\n",
    "на обучающих данных, которые передаются в качестве параметра методу\n",
    "fit . Выполним следующий сценарий для обучения алгоритма."
   ]
  },
  {
   "cell_type": "code",
   "execution_count": 15,
   "metadata": {},
   "outputs": [
    {
     "data": {
      "text/plain": [
       "[Text(0.3076923076923077, 0.9285714285714286, 'x[3] <= 0.8\\ngini = 0.666\\nsamples = 120\\nvalue = [38, 41, 41]'),\n",
       " Text(0.23076923076923078, 0.7857142857142857, 'gini = 0.0\\nsamples = 38\\nvalue = [38, 0, 0]'),\n",
       " Text(0.38461538461538464, 0.7857142857142857, 'x[2] <= 4.75\\ngini = 0.5\\nsamples = 82\\nvalue = [0, 41, 41]'),\n",
       " Text(0.15384615384615385, 0.6428571428571429, 'x[3] <= 1.65\\ngini = 0.051\\nsamples = 38\\nvalue = [0, 37, 1]'),\n",
       " Text(0.07692307692307693, 0.5, 'gini = 0.0\\nsamples = 37\\nvalue = [0, 37, 0]'),\n",
       " Text(0.23076923076923078, 0.5, 'gini = 0.0\\nsamples = 1\\nvalue = [0, 0, 1]'),\n",
       " Text(0.6153846153846154, 0.6428571428571429, 'x[3] <= 1.75\\ngini = 0.165\\nsamples = 44\\nvalue = [0, 4, 40]'),\n",
       " Text(0.38461538461538464, 0.5, 'x[1] <= 2.65\\ngini = 0.49\\nsamples = 7\\nvalue = [0, 3, 4]'),\n",
       " Text(0.3076923076923077, 0.35714285714285715, 'gini = 0.0\\nsamples = 2\\nvalue = [0, 0, 2]'),\n",
       " Text(0.46153846153846156, 0.35714285714285715, 'x[2] <= 5.05\\ngini = 0.48\\nsamples = 5\\nvalue = [0, 3, 2]'),\n",
       " Text(0.38461538461538464, 0.21428571428571427, 'gini = 0.0\\nsamples = 2\\nvalue = [0, 2, 0]'),\n",
       " Text(0.5384615384615384, 0.21428571428571427, 'x[0] <= 6.15\\ngini = 0.444\\nsamples = 3\\nvalue = [0, 1, 2]'),\n",
       " Text(0.46153846153846156, 0.07142857142857142, 'gini = 0.0\\nsamples = 1\\nvalue = [0, 1, 0]'),\n",
       " Text(0.6153846153846154, 0.07142857142857142, 'gini = 0.0\\nsamples = 2\\nvalue = [0, 0, 2]'),\n",
       " Text(0.8461538461538461, 0.5, 'x[2] <= 4.85\\ngini = 0.053\\nsamples = 37\\nvalue = [0, 1, 36]'),\n",
       " Text(0.7692307692307693, 0.35714285714285715, 'x[1] <= 3.1\\ngini = 0.444\\nsamples = 3\\nvalue = [0, 1, 2]'),\n",
       " Text(0.6923076923076923, 0.21428571428571427, 'gini = 0.0\\nsamples = 2\\nvalue = [0, 0, 2]'),\n",
       " Text(0.8461538461538461, 0.21428571428571427, 'gini = 0.0\\nsamples = 1\\nvalue = [0, 1, 0]'),\n",
       " Text(0.9230769230769231, 0.35714285714285715, 'gini = 0.0\\nsamples = 34\\nvalue = [0, 0, 34]')]"
      ]
     },
     "execution_count": 15,
     "metadata": {},
     "output_type": "execute_result"
    },
    {
     "data": {
      "image/png": "[encoded data removed]",
      "text/plain": [
       "<Figure size 640x480 with 1 Axes>"
      ]
     },
     "metadata": {},
     "output_type": "display_data"
    }
   ],
   "source": [
    "from sklearn.tree import DecisionTreeClassifier\n",
    "\n",
    "classifier = DecisionTreeClassifier()\n",
    "classifier.fit(x_train, y_train)\n",
    "\n",
    "# Построим дерево решений\n",
    "from sklearn import tree\n",
    "\n",
    "tree.plot_tree(classifier)"
   ]
  },
  {
   "attachments": {},
   "cell_type": "markdown",
   "metadata": {},
   "source": [
    "Теперь, когда наш классификатор обучен, давайте сделаем прогнозы по\n",
    "тестовым данным. Для составления прогнозов используется метод predict\n",
    "класса Decision Tree Classifier. Взгляните на следующий код для\n",
    "использования."
   ]
  },
  {
   "cell_type": "code",
   "execution_count": 16,
   "metadata": {},
   "outputs": [
    {
     "data": {
      "text/plain": [
       "array(['virginica', 'virginica', 'setosa', 'setosa', 'setosa',\n",
       "       'versicolor', 'virginica', 'setosa', 'virginica', 'setosa',\n",
       "       'virginica', 'setosa', 'setosa', 'virginica', 'versicolor',\n",
       "       'versicolor', 'setosa', 'versicolor', 'setosa', 'virginica',\n",
       "       'setosa', 'virginica', 'versicolor', 'versicolor', 'versicolor',\n",
       "       'setosa', 'virginica', 'setosa', 'virginica', 'versicolor'],\n",
       "      dtype=object)"
      ]
     },
     "execution_count": 16,
     "metadata": {},
     "output_type": "execute_result"
    }
   ],
   "source": [
    "y_pred = classifier.predict(x_test)\n",
    "y_pred"
   ]
  },
  {
   "attachments": {},
   "cell_type": "markdown",
   "metadata": {},
   "source": [
    "На данный момент мы обучили наш алгоритм и сделали некоторые\n",
    "прогнозы. Теперь посмотрим, насколько точен наш алгоритм. Для задач\n",
    "классификации обычно используются такие метрики, как матрица\n",
    "путаницы, точность. Библиотека Scikit-Learn metrics содержит методы\n",
    "classification_report и confusion_matrix, которые могут быть использованы\n",
    "для расчета этих метрик.\n"
   ]
  },
  {
   "cell_type": "code",
   "execution_count": 17,
   "metadata": {},
   "outputs": [
    {
     "name": "stdout",
     "output_type": "stream",
     "text": [
      "[[12  0  0]\n",
      " [ 0  8  1]\n",
      " [ 0  0  9]]\n",
      "              precision    recall  f1-score   support\n",
      "\n",
      "      setosa       1.00      1.00      1.00        12\n",
      "  versicolor       1.00      0.89      0.94         9\n",
      "   virginica       0.90      1.00      0.95         9\n",
      "\n",
      "    accuracy                           0.97        30\n",
      "   macro avg       0.97      0.96      0.96        30\n",
      "weighted avg       0.97      0.97      0.97        30\n",
      "\n"
     ]
    }
   ],
   "source": [
    "from sklearn.metrics import classification_report, confusion_matrix\n",
    "\n",
    "print(confusion_matrix(y_test, y_pred))\n",
    "print(classification_report(y_test, y_pred))"
   ]
  },
  {
   "attachments": {},
   "cell_type": "markdown",
   "metadata": {},
   "source": [
    "### 1.3.1 Задание\n",
    "Постройте классификатор на основе дерева принятия решений\n",
    "следующего датасета:"
   ]
  },
  {
   "cell_type": "code",
   "execution_count": 18,
   "metadata": {},
   "outputs": [],
   "source": [
    "# Данные\n",
    "x = np.array([[-1, -1], [-2, -1], [-3, -2], [1, 1], [2, 1], [3, 2]])\n",
    "target = [0, 0, 0, 1, 1, 1]"
   ]
  },
  {
   "cell_type": "code",
   "execution_count": 19,
   "metadata": {},
   "outputs": [
    {
     "name": "stdout",
     "output_type": "stream",
     "text": [
      "[[1 0]\n",
      " [0 2]]\n",
      "              precision    recall  f1-score   support\n",
      "\n",
      "           0       1.00      1.00      1.00         1\n",
      "           1       1.00      1.00      1.00         2\n",
      "\n",
      "    accuracy                           1.00         3\n",
      "   macro avg       1.00      1.00      1.00         3\n",
      "weighted avg       1.00      1.00      1.00         3\n",
      "\n"
     ]
    },
    {
     "data": {
      "image/png": "[encoded data removed]",
      "text/plain": [
       "<Figure size 640x480 with 1 Axes>"
      ]
     },
     "metadata": {},
     "output_type": "display_data"
    }
   ],
   "source": [
    "# Разделение данных на тренеровочную и тестовую части\n",
    "x_train, x_test, y_train, y_test = train_test_split(x, target, test_size=0.5)\n",
    "\n",
    "# Обучение модели\n",
    "classifier = DecisionTreeClassifier()\n",
    "classifier.fit(x_train, y_train)\n",
    "tree.plot_tree(classifier)\n",
    "\n",
    "# Формирование прогназа\n",
    "y_pred = classifier.predict(x_test)\n",
    "\n",
    "# Оценка меодели\n",
    "print(confusion_matrix(y_test, y_pred))\n",
    "print(classification_report(y_test, y_pred))"
   ]
  },
  {
   "attachments": {},
   "cell_type": "markdown",
   "metadata": {},
   "source": [
    "### 1.4.1 Пример\n",
    "Постойте регрессию с использованием дерева решений, реализованного в\n",
    "Python"
   ]
  },
  {
   "cell_type": "code",
   "execution_count": 20,
   "metadata": {},
   "outputs": [
    {
     "name": "stdout",
     "output_type": "stream",
     "text": [
      "(30, 2)\n"
     ]
    },
    {
     "data": {
      "text/html": [
       "<div>\n",
       "<style scoped>\n",
       "    .dataframe tbody tr th:only-of-type {\n",
       "        vertical-align: middle;\n",
       "    }\n",
       "\n",
       "    .dataframe tbody tr th {\n",
       "        vertical-align: top;\n",
       "    }\n",
       "\n",
       "    .dataframe thead th {\n",
       "        text-align: right;\n",
       "    }\n",
       "</style>\n",
       "<table border=\"1\" class=\"dataframe\">\n",
       "  <thead>\n",
       "    <tr style=\"text-align: right;\">\n",
       "      <th></th>\n",
       "      <th>YearsExperience</th>\n",
       "      <th>Salary</th>\n",
       "    </tr>\n",
       "  </thead>\n",
       "  <tbody>\n",
       "    <tr>\n",
       "      <th>count</th>\n",
       "      <td>30.000000</td>\n",
       "      <td>30.000000</td>\n",
       "    </tr>\n",
       "    <tr>\n",
       "      <th>mean</th>\n",
       "      <td>5.313333</td>\n",
       "      <td>76003.000000</td>\n",
       "    </tr>\n",
       "    <tr>\n",
       "      <th>std</th>\n",
       "      <td>2.837888</td>\n",
       "      <td>27414.429785</td>\n",
       "    </tr>\n",
       "    <tr>\n",
       "      <th>min</th>\n",
       "      <td>1.100000</td>\n",
       "      <td>37731.000000</td>\n",
       "    </tr>\n",
       "    <tr>\n",
       "      <th>25%</th>\n",
       "      <td>3.200000</td>\n",
       "      <td>56720.750000</td>\n",
       "    </tr>\n",
       "    <tr>\n",
       "      <th>50%</th>\n",
       "      <td>4.700000</td>\n",
       "      <td>65237.000000</td>\n",
       "    </tr>\n",
       "    <tr>\n",
       "      <th>75%</th>\n",
       "      <td>7.700000</td>\n",
       "      <td>100544.750000</td>\n",
       "    </tr>\n",
       "    <tr>\n",
       "      <th>max</th>\n",
       "      <td>10.500000</td>\n",
       "      <td>122391.000000</td>\n",
       "    </tr>\n",
       "  </tbody>\n",
       "</table>\n",
       "</div>"
      ],
      "text/plain": [
       "       YearsExperience         Salary\n",
       "count        30.000000      30.000000\n",
       "mean          5.313333   76003.000000\n",
       "std           2.837888   27414.429785\n",
       "min           1.100000   37731.000000\n",
       "25%           3.200000   56720.750000\n",
       "50%           4.700000   65237.000000\n",
       "75%           7.700000  100544.750000\n",
       "max          10.500000  122391.000000"
      ]
     },
     "execution_count": 20,
     "metadata": {},
     "output_type": "execute_result"
    }
   ],
   "source": [
    "import pandas as pd\n",
    "import numpy as np\n",
    "import matplotlib.pyplot as plt\n",
    "\n",
    "url = 'https://raw.githubusercontent.com/AnnaShestova/salary-years-simple-linear-regression/master/Salary_Data.csv'\n",
    "dataset = pd.read_csv(url)\n",
    "dataset.head()\n",
    "\n",
    "# Исследуем набор данных\n",
    "print(dataset.shape)\n",
    "dataset.describe()"
   ]
  },
  {
   "cell_type": "code",
   "execution_count": 27,
   "metadata": {},
   "outputs": [
    {
     "data": {
      "image/png": "[encoded data removed]",
      "text/plain": [
       "<Figure size 640x480 with 1 Axes>"
      ]
     },
     "metadata": {},
     "output_type": "display_data"
    },
    {
     "name": "stdout",
     "output_type": "stream",
     "text": [
      "[ 46205.  121872.   56375.5  56375.5 112635.  105582. ]\n"
     ]
    },
    {
     "data": {
      "text/html": [
       "<div>\n",
       "<style scoped>\n",
       "    .dataframe tbody tr th:only-of-type {\n",
       "        vertical-align: middle;\n",
       "    }\n",
       "\n",
       "    .dataframe tbody tr th {\n",
       "        vertical-align: top;\n",
       "    }\n",
       "\n",
       "    .dataframe thead th {\n",
       "        text-align: right;\n",
       "    }\n",
       "</style>\n",
       "<table border=\"1\" class=\"dataframe\">\n",
       "  <thead>\n",
       "    <tr style=\"text-align: right;\">\n",
       "      <th></th>\n",
       "      <th>Actual</th>\n",
       "      <th>Predicted</th>\n",
       "    </tr>\n",
       "  </thead>\n",
       "  <tbody>\n",
       "    <tr>\n",
       "      <th>0</th>\n",
       "      <td>37731.0</td>\n",
       "      <td>46205.0</td>\n",
       "    </tr>\n",
       "    <tr>\n",
       "      <th>1</th>\n",
       "      <td>122391.0</td>\n",
       "      <td>121872.0</td>\n",
       "    </tr>\n",
       "    <tr>\n",
       "      <th>2</th>\n",
       "      <td>57081.0</td>\n",
       "      <td>56375.5</td>\n",
       "    </tr>\n",
       "    <tr>\n",
       "      <th>3</th>\n",
       "      <td>63218.0</td>\n",
       "      <td>56375.5</td>\n",
       "    </tr>\n",
       "    <tr>\n",
       "      <th>4</th>\n",
       "      <td>116969.0</td>\n",
       "      <td>112635.0</td>\n",
       "    </tr>\n",
       "    <tr>\n",
       "      <th>5</th>\n",
       "      <td>109431.0</td>\n",
       "      <td>105582.0</td>\n",
       "    </tr>\n",
       "  </tbody>\n",
       "</table>\n",
       "</div>"
      ],
      "text/plain": [
       "     Actual  Predicted\n",
       "0   37731.0    46205.0\n",
       "1  122391.0   121872.0\n",
       "2   57081.0    56375.5\n",
       "3   63218.0    56375.5\n",
       "4  116969.0   112635.0\n",
       "5  109431.0   105582.0"
      ]
     },
     "execution_count": 27,
     "metadata": {},
     "output_type": "execute_result"
    },
    {
     "data": {
      "image/png": "[encoded data removed]",
      "text/plain": [
       "<Figure size 640x480 with 1 Axes>"
      ]
     },
     "metadata": {},
     "output_type": "display_data"
    }
   ],
   "source": [
    "# Нарисуем точечную диаграмму\n",
    "plt.scatter(dataset['YearsExperience'], dataset['Salary'], color='b', label='Заработная плата')\n",
    "plt.xlabel('Опыт(лет)')\n",
    "plt.ylabel('Заработная плата')\n",
    "plt.show()\n",
    "\n",
    "from sklearn.tree import DecisionTreeRegressor\n",
    "\n",
    "x = dataset.iloc[:, :-1].values\n",
    "y = dataset.iloc[:, -1].values\n",
    "\n",
    "# Теперь, когда у нас есть атрибуты и мети, необходимо разделить из на обучающий и тестовый наборы\n",
    "# Разделим 80% даннх на люучающий набор, а 20% данных - на набор тестотв\n",
    "x_train, x_test, y_train, y_test = train_test_split(x, y, test_size = 0.2, random_state=0)\n",
    "\n",
    "# Далее можно обучить алгоритм линейной регрессии\n",
    "# Необходимо импортировать клас LinearRegression, создать его экземпрляр и вызвать метод fit()\n",
    "regression = DecisionTreeRegressor()\n",
    "regression.fit(x_train, y_train)\n",
    "\n",
    "from sklearn import tree\n",
    "tree.plot_tree(regression)\n",
    "\n",
    "# Построение прогноза\n",
    "y_pred = regression.predict(x_test)\n",
    "print(y_pred)\n",
    "\n",
    "# Сравним прогноз с фактическим значением\n",
    "df = pd.DataFrame({'Actual': y_test, 'Predicted': y_pred})\n",
    "df"
   ]
  },
  {
   "cell_type": "code",
   "execution_count": 22,
   "metadata": {},
   "outputs": [
    {
     "name": "stdout",
     "output_type": "stream",
     "text": [
      "Mean Squared Error: 25498988.416666668\n",
      "Mean Absolute Error: 4120.666666666667\n"
     ]
    },
    {
     "data": {
      "text/plain": [
       "5.421715809463662"
      ]
     },
     "execution_count": 22,
     "metadata": {},
     "output_type": "execute_result"
    }
   ],
   "source": [
    "# Рассчет средней абсолютрой и среднеквадратичной ошибки регрессии\n",
    "from sklearn import metrics\n",
    "\n",
    "print('Mean Squared Error:', metrics.mean_squared_error(y_test, y_pred))\n",
    "print('Mean Absolute Error:', metrics.mean_absolute_error(y_test, y_pred))\n",
    "\n",
    "metrics.mean_absolute_error(y_test, y_pred) / np.average(y) * 100"
   ]
  },
  {
   "attachments": {},
   "cell_type": "markdown",
   "metadata": {},
   "source": [
    "### 1.4.1 Задание\n",
    " Постройте модель регрессии для данных из предыдущей рабочей\n",
    "тетради.Для примера можно взять потребления газа (в миллионах\n",
    "галлонов) в 48 штатах США или набор данных о качестве красного вина: \\\n",
    "https://raw.githubusercontent.com/likarajo/petrol_consumption/master/data/petrol_consumption.csv \\\n",
    "https://raw.githubusercontent.com/aniruddhachoudhury/Red-WineQuality/master/winequality-red.csv \\\n",
    "Постройте прогноз. Оцените точность модели."
   ]
  },
  {
   "cell_type": "code",
   "execution_count": 26,
   "metadata": {},
   "outputs": [
    {
     "name": "stdout",
     "output_type": "stream",
     "text": [
      "[[ 7.4    0.7    0.    ...  3.51   0.56   9.4  ]\n",
      " [ 7.8    0.88   0.    ...  3.2    0.68   9.8  ]\n",
      " [ 7.8    0.76   0.04  ...  3.26   0.65   9.8  ]\n",
      " ...\n",
      " [ 6.3    0.51   0.13  ...  3.42   0.75  11.   ]\n",
      " [ 5.9    0.645  0.12  ...  3.57   0.71  10.2  ]\n",
      " [ 6.     0.31   0.47  ...  3.39   0.66  11.   ]]\n",
      "[5 5 5 ... 6 5 6]\n",
      "Mean Squared Error: 0.705\n",
      "Mean Absolute Error: 0.5175\n",
      "9.182007323568575\n"
     ]
    },
    {
     "data": {
      "text/html": [
       "<div>\n",
       "<style scoped>\n",
       "    .dataframe tbody tr th:only-of-type {\n",
       "        vertical-align: middle;\n",
       "    }\n",
       "\n",
       "    .dataframe tbody tr th {\n",
       "        vertical-align: top;\n",
       "    }\n",
       "\n",
       "    .dataframe thead th {\n",
       "        text-align: right;\n",
       "    }\n",
       "</style>\n",
       "<table border=\"1\" class=\"dataframe\">\n",
       "  <thead>\n",
       "    <tr style=\"text-align: right;\">\n",
       "      <th></th>\n",
       "      <th>Actual</th>\n",
       "      <th>Predicted</th>\n",
       "    </tr>\n",
       "  </thead>\n",
       "  <tbody>\n",
       "    <tr>\n",
       "      <th>0</th>\n",
       "      <td>6</td>\n",
       "      <td>5.0</td>\n",
       "    </tr>\n",
       "    <tr>\n",
       "      <th>1</th>\n",
       "      <td>5</td>\n",
       "      <td>5.0</td>\n",
       "    </tr>\n",
       "    <tr>\n",
       "      <th>2</th>\n",
       "      <td>7</td>\n",
       "      <td>7.0</td>\n",
       "    </tr>\n",
       "    <tr>\n",
       "      <th>3</th>\n",
       "      <td>6</td>\n",
       "      <td>6.0</td>\n",
       "    </tr>\n",
       "    <tr>\n",
       "      <th>4</th>\n",
       "      <td>5</td>\n",
       "      <td>8.0</td>\n",
       "    </tr>\n",
       "    <tr>\n",
       "      <th>...</th>\n",
       "      <td>...</td>\n",
       "      <td>...</td>\n",
       "    </tr>\n",
       "    <tr>\n",
       "      <th>795</th>\n",
       "      <td>5</td>\n",
       "      <td>6.0</td>\n",
       "    </tr>\n",
       "    <tr>\n",
       "      <th>796</th>\n",
       "      <td>6</td>\n",
       "      <td>6.0</td>\n",
       "    </tr>\n",
       "    <tr>\n",
       "      <th>797</th>\n",
       "      <td>5</td>\n",
       "      <td>4.0</td>\n",
       "    </tr>\n",
       "    <tr>\n",
       "      <th>798</th>\n",
       "      <td>6</td>\n",
       "      <td>6.0</td>\n",
       "    </tr>\n",
       "    <tr>\n",
       "      <th>799</th>\n",
       "      <td>6</td>\n",
       "      <td>5.0</td>\n",
       "    </tr>\n",
       "  </tbody>\n",
       "</table>\n",
       "<p>800 rows × 2 columns</p>\n",
       "</div>"
      ],
      "text/plain": [
       "     Actual  Predicted\n",
       "0         6        5.0\n",
       "1         5        5.0\n",
       "2         7        7.0\n",
       "3         6        6.0\n",
       "4         5        8.0\n",
       "..      ...        ...\n",
       "795       5        6.0\n",
       "796       6        6.0\n",
       "797       5        4.0\n",
       "798       6        6.0\n",
       "799       6        5.0\n",
       "\n",
       "[800 rows x 2 columns]"
      ]
     },
     "execution_count": 26,
     "metadata": {},
     "output_type": "execute_result"
    },
    {
     "data": {
      "image/png": "[encoded data removed]",
      "text/plain": [
       "<Figure size 640x480 with 1 Axes>"
      ]
     },
     "metadata": {},
     "output_type": "display_data"
    }
   ],
   "source": [
    "# Загрузить данные\n",
    "url = 'https://raw.githubusercontent.com/aniruddhachoudhury/Red-Wine-Quality/master/winequality-red.csv'\n",
    "datafame = pd.read_csv(url)\n",
    "\n",
    "# Формируем  из двух списков\n",
    "x = datafame.iloc[:, :-1].values\n",
    "y = datafame.iloc[:, -1].values\n",
    "\n",
    "# # Разделим данные на метки и атрибуты\n",
    "# x = dataset[['fixed acidity', 'volatile acidity', 'citric acid', 'residual sugar', 'chlorides', 'free sulfur dioxide', 'total sulfur dioxide', 'density', 'pH', 'sulphates', 'alcohol']]\n",
    "# y = dataset['quality']\n",
    "\n",
    "# Разделим данные на обучающую и тестовую выборки\n",
    "x_train, x_test, y_train, y_test = train_test_split(x, y, test_size=0.5, random_state=0)\n",
    "\n",
    "# Обучение модели\n",
    "regression = DecisionTreeRegressor()\n",
    "regression.fit(x_train, y_train)\n",
    "tree.plot_tree(regression)\n",
    "\n",
    "# Прогнозирование\n",
    "y_pred = regression.predict(x_test)\n",
    "\n",
    "# Оценка точности модели\n",
    "print('Mean Squared Error:', metrics.mean_squared_error(y_test, y_pred))\n",
    "print('Mean Absolute Error:', metrics.mean_absolute_error(y_test, y_pred))\n",
    "print(metrics.mean_absolute_error(y_test, y_pred) / np.average(y) * 100)\n",
    "\n",
    "# Отображение прогноза\n",
    "df = pd.DataFrame({'Actual': y_test, 'Predicted': y_pred})\n",
    "df"
   ]
  }
 ],
 "metadata": {
  "kernelspec": {
   "display_name": "Python 3",
   "language": "python",
   "name": "python3"
  },
  "language_info": {
   "codemirror_mode": {
    "name": "ipython",
    "version": 3
   },
   "file_extension": ".py",
   "mimetype": "text/x-python",
   "name": "python",
   "nbconvert_exporter": "python",
   "pygments_lexer": "ipython3",
   "version": "3.11.0"
  },
  "orig_nbformat": 4
 },
 "nbformat": 4,
 "nbformat_minor": 2
}
