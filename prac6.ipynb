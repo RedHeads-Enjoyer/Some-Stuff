{
 "cells": [
  {
   "attachments": {},
   "cell_type": "markdown",
   "metadata": {},
   "source": [
    "# Практическое занятие №6"
   ]
  },
  {
   "attachments": {},
   "cell_type": "markdown",
   "metadata": {},
   "source": [
    "### 1.3. (уровень сложности: низкий)\n",
    "Реализуйте рекурсивное вычисление факториала в виде выражения. Необходимо это сделать без использования именованных функций, переменных (в том числе без имени факториала) и присваиваний."
   ]
  },
  {
   "cell_type": "code",
   "execution_count": 18,
   "metadata": {},
   "outputs": [
    {
     "name": "stdout",
     "output_type": "stream",
     "text": [
      "120\n"
     ]
    }
   ],
   "source": [
    "fact = lambda x: x * fact(x - 1) if x != 1 else 1\n",
    "print(fact(5))"
   ]
  },
  {
   "attachments": {},
   "cell_type": "markdown",
   "metadata": {},
   "source": [
    "### 2.1. (уровень сложности: высокий)\n",
    "Создайте функцию pair(head, tail), которая порождает элемент списка. Не используйте ветвления. Создайте также функции head(lst) (возвращает значение головы списка) и tail(lst) (возвращает хвост списка)."
   ]
  },
  {
   "cell_type": "code",
   "execution_count": 19,
   "metadata": {},
   "outputs": [],
   "source": [
    "def pair(head, tail = None):\n",
    "    return lambda i: head if i == 0 else tail\n",
    "\n",
    "\n",
    "def head(lst):\n",
    "    return lst(0)\n",
    "\n",
    "\n",
    "def tail(lst):\n",
    "    return lst(1)\n"
   ]
  },
  {
   "attachments": {},
   "cell_type": "markdown",
   "metadata": {},
   "source": [
    "### 2.2. (уровень сложности: средний)\n",
    "Создайте функцию make_list(*args), которая создает список на основе аргументов."
   ]
  },
  {
   "cell_type": "code",
   "execution_count": 27,
   "metadata": {},
   "outputs": [],
   "source": [
    "def make_list(*args):\n",
    "    if not args:\n",
    "        return None\n",
    "    elif callable(args[0]):\n",
    "        return args[0]\n",
    "    else:\n",
    "        return pair(args[0], make_list(*args[1:]))\n"
   ]
  },
  {
   "attachments": {},
   "cell_type": "markdown",
   "metadata": {},
   "source": [
    "### 2.3. (уровень сложности: средний)\n",
    "\n",
    "Создайте функцию list_to_string(lst), возвращающую строку, содержащую элементы списка."
   ]
  },
  {
   "cell_type": "code",
   "execution_count": 21,
   "metadata": {},
   "outputs": [
    {
     "name": "stdout",
     "output_type": "stream",
     "text": [
      "1 2 3 \n"
     ]
    }
   ],
   "source": [
    "def list_to_string(lst):  \n",
    "    if (callable(lst)):\n",
    "        return str(lst(0)) + ' ' + list_to_string(lst(1))\n",
    "    return ''\n",
    "\n",
    "\n",
    "my_list = make_list(1, 2, 3)\n",
    "print(list_to_string(my_list))"
   ]
  },
  {
   "attachments": {},
   "cell_type": "markdown",
   "metadata": {},
   "source": [
    "### 2.4. (уровень сложности: средний)\n",
    "\n",
    "Создайте функцию list_range(low, high), возвращающую список чисел от low до high включительно."
   ]
  },
  {
   "cell_type": "code",
   "execution_count": 22,
   "metadata": {},
   "outputs": [
    {
     "name": "stdout",
     "output_type": "stream",
     "text": [
      "2 3 4 5 \n"
     ]
    }
   ],
   "source": [
    "def list_range(low, high):\n",
    "    return make_list(*[x for x in range(low, high + 1)])\n",
    "\n",
    "print(list_to_string(list_range(2, 5)))"
   ]
  },
  {
   "attachments": {},
   "cell_type": "markdown",
   "metadata": {},
   "source": [
    "### 2.5. (уровень сложности: средний)\n",
    "Создайте функцию foldl(func, lst, acc), вычисляющую свертку элементов списка, аналогично reduce."
   ]
  },
  {
   "cell_type": "code",
   "execution_count": 28,
   "metadata": {},
   "outputs": [
    {
     "name": "stdout",
     "output_type": "stream",
     "text": [
      "15\n"
     ]
    }
   ],
   "source": [
    "def foldl(func, lst):\n",
    "    if callable(tail(lst)):\n",
    "        if lst(1)(0) is not None:\n",
    "            return foldl(func, make_list(func(lst(0), lst(1)(0)), tail(tail(lst))))\n",
    "    return lst(0)"
   ]
  },
  {
   "attachments": {},
   "cell_type": "markdown",
   "metadata": {},
   "source": [
    "### 2.6. (уровень сложности: средний)\n",
    "Создайте функцию list_sum(lst) для вычисления суммы элементов списка с помощью foldl."
   ]
  },
  {
   "cell_type": "code",
   "execution_count": 31,
   "metadata": {},
   "outputs": [
    {
     "name": "stdout",
     "output_type": "stream",
     "text": [
      "15\n"
     ]
    }
   ],
   "source": [
    "def list_sum(lst):\n",
    "    return foldl(lambda x, y: x + y, lst)\n",
    "\n",
    "print(list_sum(list_range(1, 5)))"
   ]
  },
  {
   "attachments": {},
   "cell_type": "markdown",
   "metadata": {},
   "source": [
    "### 2.7. (уровень сложности: средний)\n",
    "Создайте функцию fact(n) для вычисления факториала с помощью foldl и list_range."
   ]
  },
  {
   "cell_type": "code",
   "execution_count": 32,
   "metadata": {},
   "outputs": [
    {
     "name": "stdout",
     "output_type": "stream",
     "text": [
      "120\n"
     ]
    }
   ],
   "source": [
    "def fact(n):\n",
    "    return foldl(lambda x, y: x * y, list_range(1, n))\n",
    "\n",
    "print(fact(5))"
   ]
  }
 ],
 "metadata": {
  "kernelspec": {
   "display_name": "Python 3",
   "language": "python",
   "name": "python3"
  },
  "language_info": {
   "codemirror_mode": {
    "name": "ipython",
    "version": 3
   },
   "file_extension": ".py",
   "mimetype": "text/x-python",
   "name": "python",
   "nbconvert_exporter": "python",
   "pygments_lexer": "ipython3",
   "version": "3.11.0"
  },
  "orig_nbformat": 4
 },
 "nbformat": 4,
 "nbformat_minor": 2
}
