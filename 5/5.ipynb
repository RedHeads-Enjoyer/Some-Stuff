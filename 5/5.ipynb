{
 "cells": [
  {
   "attachments": {},
   "cell_type": "markdown",
   "metadata": {},
   "source": [
    "### 1.1. (уровень сложности: низкий)\n",
    "\n",
    "Исправьте функцию distance. Добавьте документацию к функции в виде docstring-строки. Укажите примеры в формате doctest. Примеры должны охватывать граничные случаи. Протестируйте программу с помощью вызова модуля doctest. Перенесите примеры в отдельный файл и снова протестируйте программу."
   ]
  },
  {
   "cell_type": "code",
   "execution_count": null,
   "metadata": {},
   "outputs": [],
   "source": [
    "def distance(x1, y1, x2, y2):\n",
    "    '''\n",
    "    Вычисление расстояния между точками.\n",
    "    >>> distance(0, 0, 0, 0)\n",
    "    0\n",
    "    >>> fact(0, 0, 3, 4)\n",
    "    1\n",
    "    >>> fact(5)\n",
    "    Traceback (most recent call last):\n",
    "        ...\n",
    "    RecursionError: maximum recursion depth exceeded in comparison\n",
    "    '''\n",
    "    return ((x2 - x1)**2 - (y2 - y1)**2) ** 0.5"
   ]
  }
 ],
 "metadata": {
  "language_info": {
   "name": "python"
  },
  "orig_nbformat": 4
 },
 "nbformat": 4,
 "nbformat_minor": 2
}
